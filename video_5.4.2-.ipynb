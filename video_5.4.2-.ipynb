{
 "cells": [
  {
   "cell_type": "markdown",
   "id": "656ef51d",
   "metadata": {},
   "source": [
    "VIDEO 5.4.2 GroupBy in Spark"
   ]
  },
  {
   "cell_type": "code",
   "execution_count": 3,
   "id": "4341e0e6",
   "metadata": {},
   "outputs": [],
   "source": [
    "import pyspark\n",
    "from pyspark.sql import SparkSession\n",
    "\n",
    "spark = SparkSession.builder \\\n",
    "    .master(\"local[*]\") \\\n",
    "    .appName('test') \\\n",
    "    .getOrCreate()"
   ]
  },
  {
   "cell_type": "code",
   "execution_count": 4,
   "id": "cd304aec",
   "metadata": {},
   "outputs": [],
   "source": [
    "df_green = spark.read.parquet('data/pq/green/*/*')"
   ]
  },
  {
   "cell_type": "code",
   "execution_count": 5,
   "id": "243991f3",
   "metadata": {},
   "outputs": [
    {
     "name": "stderr",
     "output_type": "stream",
     "text": [
      "/usr/local/spark/python/pyspark/sql/dataframe.py:329: FutureWarning: Deprecated in 2.0, use createOrReplaceTempView instead.\n",
      "  warnings.warn(\"Deprecated in 2.0, use createOrReplaceTempView instead.\", FutureWarning)\n"
     ]
    }
   ],
   "source": [
    "df_green.registerTempTable('green')"
   ]
  },
  {
   "cell_type": "code",
   "execution_count": 6,
   "id": "e43764a7",
   "metadata": {},
   "outputs": [],
   "source": [
    "df_green_revenue = spark.sql(\"\"\"\n",
    "SELECT \n",
    "    date_trunc('hour', lpep_pickup_datetime) AS hour, \n",
    "    PULocationID AS zone,\n",
    "\n",
    "    SUM(total_amount) AS amount,\n",
    "    COUNT(1) AS number_records\n",
    "FROM\n",
    "    green\n",
    "WHERE\n",
    "    lpep_pickup_datetime >= '2020-01-01 00:00:00'\n",
    "GROUP BY\n",
    "    1, 2\n",
    "\"\"\")"
   ]
  },
  {
   "cell_type": "code",
   "execution_count": 7,
   "id": "a15bfce6",
   "metadata": {},
   "outputs": [
    {
     "name": "stdout",
     "output_type": "stream",
     "text": [
      "+-------------------+----+------------------+--------------+\n",
      "|               hour|zone|            amount|number_records|\n",
      "+-------------------+----+------------------+--------------+\n",
      "|2020-01-02 13:00:00|  74|1037.6299999999997|            71|\n",
      "|2020-01-05 08:00:00|  42|            338.27|            18|\n",
      "|2020-01-01 01:00:00|  17|            598.15|            18|\n",
      "|2020-01-04 20:00:00|  25|            369.57|            23|\n",
      "|2020-01-03 12:00:00|  74| 770.0400000000002|            62|\n",
      "|2020-01-02 05:00:00|   7|             54.22|             2|\n",
      "|2020-01-04 22:00:00|  83|            298.16|            15|\n",
      "|2020-01-05 02:00:00| 130|             41.61|             4|\n",
      "|2020-01-02 15:00:00| 236|            209.32|             8|\n",
      "|2020-01-02 09:00:00|  66|229.40000000000003|            12|\n",
      "|2020-01-02 15:00:00|  66|            241.25|            10|\n",
      "|2020-01-04 15:00:00| 112|             21.55|             1|\n",
      "|2020-01-05 00:00:00| 244|181.98999999999998|             9|\n",
      "|2020-01-01 10:00:00| 181|54.559999999999995|             5|\n",
      "|2020-01-02 02:00:00|   7|              10.3|             1|\n",
      "|2020-01-05 03:00:00|  17|42.900000000000006|             3|\n",
      "|2020-01-04 16:00:00| 196|            210.44|            10|\n",
      "|2020-01-01 06:00:00| 255|            121.12|             3|\n",
      "|2020-01-03 08:00:00| 223|165.89999999999998|             9|\n",
      "|2020-01-02 12:00:00|  69|            164.64|             9|\n",
      "+-------------------+----+------------------+--------------+\n",
      "only showing top 20 rows\n",
      "\n"
     ]
    }
   ],
   "source": [
    "df_green_revenue.show()"
   ]
  },
  {
   "cell_type": "code",
   "execution_count": 9,
   "id": "3e00310e",
   "metadata": {},
   "outputs": [],
   "source": [
    "df_green_revenue.repartition(20).write.parquet('data/report/revenue/green', mode='overwrite')"
   ]
  },
  {
   "cell_type": "code",
   "execution_count": 10,
   "id": "07ebb68c",
   "metadata": {},
   "outputs": [
    {
     "name": "stderr",
     "output_type": "stream",
     "text": [
      "/usr/local/spark/python/pyspark/sql/dataframe.py:329: FutureWarning: Deprecated in 2.0, use createOrReplaceTempView instead.\n",
      "  warnings.warn(\"Deprecated in 2.0, use createOrReplaceTempView instead.\", FutureWarning)\n"
     ]
    }
   ],
   "source": [
    "df_yellow = spark.read.parquet('data/pq/yellow/*/*')\n",
    "df_yellow.registerTempTable('yellow')"
   ]
  },
  {
   "cell_type": "code",
   "execution_count": 11,
   "id": "9d5be29d",
   "metadata": {},
   "outputs": [],
   "source": [
    "df_yellow_revenue = spark.sql(\"\"\"\n",
    "SELECT \n",
    "    date_trunc('hour', tpep_pickup_datetime) AS hour, \n",
    "    PULocationID AS zone,\n",
    "\n",
    "    SUM(total_amount) AS amount,\n",
    "    COUNT(1) AS number_records\n",
    "FROM\n",
    "    yellow\n",
    "WHERE\n",
    "    tpep_pickup_datetime >= '2020-01-01 00:00:00'\n",
    "GROUP BY\n",
    "    1, 2\n",
    "\"\"\")"
   ]
  },
  {
   "cell_type": "code",
   "execution_count": 12,
   "id": "8bd9264e",
   "metadata": {},
   "outputs": [],
   "source": [
    "df_yellow_revenue.repartition(20).write.parquet('data/report/revenue/yellow', mode='overwrite')"
   ]
  },
  {
   "cell_type": "markdown",
   "id": "d508915d",
   "metadata": {},
   "source": [
    "VIDEO 5.4.3 - Joins in Spark"
   ]
  },
  {
   "cell_type": "code",
   "execution_count": 13,
   "id": "fd5d74d7",
   "metadata": {},
   "outputs": [],
   "source": [
    "df_green_revenue = spark.read.parquet('data/report/revenue/green')\n",
    "df_yellow_revenue = spark.read.parquet('data/report/revenue/yellow')"
   ]
  },
  {
   "cell_type": "code",
   "execution_count": 14,
   "id": "35015ee6",
   "metadata": {},
   "outputs": [],
   "source": [
    "df_green_revenue_tmp = df_green_revenue \\\n",
    "    .withColumnRenamed('amount', 'green_amount') \\\n",
    "    .withColumnRenamed('number_records', 'green_number_records')\n",
    "\n",
    "df_yellow_revenue_tmp = df_yellow_revenue \\\n",
    "    .withColumnRenamed('amount', 'yellow_amount') \\\n",
    "    .withColumnRenamed('number_records', 'yellow_number_records')"
   ]
  },
  {
   "cell_type": "code",
   "execution_count": 15,
   "id": "ec9f34ea",
   "metadata": {},
   "outputs": [],
   "source": [
    "df_join = df_green_revenue_tmp.join(df_yellow_revenue_tmp, on=['hour', 'zone'], how='outer')"
   ]
  },
  {
   "cell_type": "code",
   "execution_count": 16,
   "id": "10238be7",
   "metadata": {},
   "outputs": [],
   "source": [
    "df_join.write.parquet('data/report/revenue/total', mode='overwrite')"
   ]
  },
  {
   "cell_type": "code",
   "execution_count": 17,
   "id": "c3af7169",
   "metadata": {},
   "outputs": [],
   "source": [
    "df_join = spark.read.parquet('data/report/revenue/total')"
   ]
  },
  {
   "cell_type": "code",
   "execution_count": 19,
   "id": "bc2a6680",
   "metadata": {},
   "outputs": [
    {
     "name": "stdout",
     "output_type": "stream",
     "text": [
      "+-------------------+----+------------------+--------------------+------------------+---------------------+\n",
      "|               hour|zone|      green_amount|green_number_records|     yellow_amount|yellow_number_records|\n",
      "+-------------------+----+------------------+--------------------+------------------+---------------------+\n",
      "|2020-01-01 00:00:00|   3|              NULL|                NULL|              25.0|                    1|\n",
      "|2020-01-01 00:00:00|  40|            168.98|                   8| 89.97000000000001|                    5|\n",
      "|2020-01-01 00:00:00|  45|              NULL|                NULL|            732.48|                   42|\n",
      "|2020-01-01 00:00:00|  47|              13.3|                   1|               8.3|                    1|\n",
      "|2020-01-01 00:00:00|  51|              17.8|                   2|              31.0|                    1|\n",
      "|2020-01-01 00:00:00|  77| 75.99000000000001|                   2|            134.24|                    3|\n",
      "|2020-01-01 00:00:00|  95|             202.2|                  15|               6.3|                    1|\n",
      "|2020-01-01 00:00:00| 164|              NULL|                NULL| 5448.929999999997|                  292|\n",
      "|2020-01-01 00:00:00| 239|              NULL|                NULL| 7890.139999999994|                  464|\n",
      "|2020-01-01 00:00:00| 260|            296.25|                  21| 74.14000000000001|                    8|\n",
      "|2020-01-01 00:00:00| 261|              NULL|                NULL|1013.9400000000002|                   51|\n",
      "|2020-01-01 01:00:00|   4|              NULL|                NULL|            2288.7|                  114|\n",
      "|2020-01-01 01:00:00|  17|            598.15|                  18|            464.51|                   18|\n",
      "|2020-01-01 01:00:00|  49|            237.76|                  15|            581.41|                   25|\n",
      "|2020-01-01 01:00:00|  56|              29.6|                   2|              65.0|                    2|\n",
      "|2020-01-01 01:00:00| 107|              NULL|                NULL| 9994.480000000003|                  583|\n",
      "|2020-01-01 01:00:00| 162|              NULL|                NULL| 5736.689999999995|                  298|\n",
      "|2020-01-01 01:00:00| 179|             70.86|                   4|            446.65|                   18|\n",
      "|2020-01-01 02:00:00|  29|             32.04|                   2|             46.71|                    1|\n",
      "|2020-01-01 02:00:00|  72|54.730000000000004|                   2|             116.7|                    4|\n",
      "+-------------------+----+------------------+--------------------+------------------+---------------------+\n",
      "only showing top 20 rows\n",
      "\n"
     ]
    }
   ],
   "source": [
    "df_join.show()"
   ]
  },
  {
   "cell_type": "code",
   "execution_count": 21,
   "id": "29823c9b",
   "metadata": {},
   "outputs": [
    {
     "name": "stdout",
     "output_type": "stream",
     "text": [
      "--2024-02-27 02:54:45--  https://s3.amazonaws.com/nyc-tlc/misc/taxi+_zone_lookup.csv\n",
      "Resolving s3.amazonaws.com (s3.amazonaws.com)... 54.231.201.8, 52.217.204.0, 54.231.193.64, ...\n",
      "Connecting to s3.amazonaws.com (s3.amazonaws.com)|54.231.201.8|:443... connected.\n",
      "HTTP request sent, awaiting response... 200 OK\n",
      "Length: 12322 (12K) [application/octet-stream]\n",
      "Saving to: ‘taxi+_zone_lookup.csv’\n",
      "\n",
      "taxi+_zone_lookup.c 100%[===================>]  12.03K  --.-KB/s    in 0.009s  \n",
      "\n",
      "2024-02-27 02:54:46 (1.35 MB/s) - ‘taxi+_zone_lookup.csv’ saved [12322/12322]\n",
      "\n"
     ]
    }
   ],
   "source": [
    "#download zones\n",
    "!wget https://s3.amazonaws.com/nyc-tlc/misc/taxi+_zone_lookup.csv"
   ]
  },
  {
   "cell_type": "code",
   "execution_count": 24,
   "id": "bde802c1",
   "metadata": {},
   "outputs": [],
   "source": [
    "#read zones csv and write zones parquet files\n",
    "df_zones = spark.read.option(\"header\", \"true\").csv('taxi+_zone_lookup.csv')\n",
    "df_zones.write.parquet('zones')"
   ]
  },
  {
   "cell_type": "code",
   "execution_count": 25,
   "id": "abb46398",
   "metadata": {},
   "outputs": [],
   "source": [
    "df_zones = spark.read.parquet('zones/')"
   ]
  },
  {
   "cell_type": "code",
   "execution_count": 26,
   "id": "23623aa6",
   "metadata": {},
   "outputs": [
    {
     "name": "stdout",
     "output_type": "stream",
     "text": [
      "+----------+-------------+--------------------+------------+\n",
      "|LocationID|      Borough|                Zone|service_zone|\n",
      "+----------+-------------+--------------------+------------+\n",
      "|         1|          EWR|      Newark Airport|         EWR|\n",
      "|         2|       Queens|         Jamaica Bay|   Boro Zone|\n",
      "|         3|        Bronx|Allerton/Pelham G...|   Boro Zone|\n",
      "|         4|    Manhattan|       Alphabet City| Yellow Zone|\n",
      "|         5|Staten Island|       Arden Heights|   Boro Zone|\n",
      "|         6|Staten Island|Arrochar/Fort Wad...|   Boro Zone|\n",
      "|         7|       Queens|             Astoria|   Boro Zone|\n",
      "|         8|       Queens|        Astoria Park|   Boro Zone|\n",
      "|         9|       Queens|          Auburndale|   Boro Zone|\n",
      "|        10|       Queens|        Baisley Park|   Boro Zone|\n",
      "|        11|     Brooklyn|          Bath Beach|   Boro Zone|\n",
      "|        12|    Manhattan|        Battery Park| Yellow Zone|\n",
      "|        13|    Manhattan|   Battery Park City| Yellow Zone|\n",
      "|        14|     Brooklyn|           Bay Ridge|   Boro Zone|\n",
      "|        15|       Queens|Bay Terrace/Fort ...|   Boro Zone|\n",
      "|        16|       Queens|             Bayside|   Boro Zone|\n",
      "|        17|     Brooklyn|             Bedford|   Boro Zone|\n",
      "|        18|        Bronx|        Bedford Park|   Boro Zone|\n",
      "|        19|       Queens|           Bellerose|   Boro Zone|\n",
      "|        20|        Bronx|             Belmont|   Boro Zone|\n",
      "+----------+-------------+--------------------+------------+\n",
      "only showing top 20 rows\n",
      "\n"
     ]
    }
   ],
   "source": [
    "df_zones.show()"
   ]
  },
  {
   "cell_type": "code",
   "execution_count": 27,
   "id": "b3cf98a5",
   "metadata": {},
   "outputs": [],
   "source": [
    "df_result = df_join.join(df_zones, df_join.zone == df_zones.LocationID)"
   ]
  },
  {
   "cell_type": "code",
   "execution_count": 28,
   "id": "a2f5143e",
   "metadata": {},
   "outputs": [
    {
     "name": "stdout",
     "output_type": "stream",
     "text": [
      "+-------------------+----+------------------+--------------------+------------------+---------------------+----------+---------+--------------------+------------+\n",
      "|               hour|zone|      green_amount|green_number_records|     yellow_amount|yellow_number_records|LocationID|  Borough|                Zone|service_zone|\n",
      "+-------------------+----+------------------+--------------------+------------------+---------------------+----------+---------+--------------------+------------+\n",
      "|2020-01-01 00:00:00|   3|              NULL|                NULL|              25.0|                    1|         3|    Bronx|Allerton/Pelham G...|   Boro Zone|\n",
      "|2020-01-01 00:00:00|  40|            168.98|                   8| 89.97000000000001|                    5|        40| Brooklyn|     Carroll Gardens|   Boro Zone|\n",
      "|2020-01-01 00:00:00|  45|              NULL|                NULL|            732.48|                   42|        45|Manhattan|           Chinatown| Yellow Zone|\n",
      "|2020-01-01 00:00:00|  47|              13.3|                   1|               8.3|                    1|        47|    Bronx|  Claremont/Bathgate|   Boro Zone|\n",
      "|2020-01-01 00:00:00|  51|              17.8|                   2|              31.0|                    1|        51|    Bronx|          Co-Op City|   Boro Zone|\n",
      "|2020-01-01 00:00:00|  77| 75.99000000000001|                   2|            134.24|                    3|        77| Brooklyn|East New York/Pen...|   Boro Zone|\n",
      "|2020-01-01 00:00:00|  95|             202.2|                  15|               6.3|                    1|        95|   Queens|        Forest Hills|   Boro Zone|\n",
      "|2020-01-01 00:00:00| 164|              NULL|                NULL| 5448.929999999997|                  292|       164|Manhattan|       Midtown South| Yellow Zone|\n",
      "|2020-01-01 00:00:00| 239|              NULL|                NULL| 7890.139999999994|                  464|       239|Manhattan|Upper West Side S...| Yellow Zone|\n",
      "|2020-01-01 00:00:00| 260|            296.25|                  21| 74.14000000000001|                    8|       260|   Queens|            Woodside|   Boro Zone|\n",
      "|2020-01-01 00:00:00| 261|              NULL|                NULL|1013.9400000000002|                   51|       261|Manhattan|  World Trade Center| Yellow Zone|\n",
      "|2020-01-01 01:00:00|   4|              NULL|                NULL|            2288.7|                  114|         4|Manhattan|       Alphabet City| Yellow Zone|\n",
      "|2020-01-01 01:00:00|  17|            598.15|                  18|            464.51|                   18|        17| Brooklyn|             Bedford|   Boro Zone|\n",
      "|2020-01-01 01:00:00|  49|            237.76|                  15|            581.41|                   25|        49| Brooklyn|        Clinton Hill|   Boro Zone|\n",
      "|2020-01-01 01:00:00|  56|              29.6|                   2|              65.0|                    2|        56|   Queens|              Corona|   Boro Zone|\n",
      "|2020-01-01 01:00:00| 107|              NULL|                NULL| 9994.480000000003|                  583|       107|Manhattan|            Gramercy| Yellow Zone|\n",
      "|2020-01-01 01:00:00| 162|              NULL|                NULL| 5736.689999999995|                  298|       162|Manhattan|        Midtown East| Yellow Zone|\n",
      "|2020-01-01 01:00:00| 179|             70.86|                   4|            446.65|                   18|       179|   Queens|         Old Astoria|   Boro Zone|\n",
      "|2020-01-01 02:00:00|  29|             32.04|                   2|             46.71|                    1|        29| Brooklyn|      Brighton Beach|   Boro Zone|\n",
      "|2020-01-01 02:00:00|  72|54.730000000000004|                   2|             116.7|                    4|        72| Brooklyn|East Flatbush/Rem...|   Boro Zone|\n",
      "+-------------------+----+------------------+--------------------+------------------+---------------------+----------+---------+--------------------+------------+\n",
      "only showing top 20 rows\n",
      "\n"
     ]
    }
   ],
   "source": [
    "df_result.show()"
   ]
  },
  {
   "cell_type": "code",
   "execution_count": 29,
   "id": "5e0614ba",
   "metadata": {},
   "outputs": [],
   "source": [
    "df_result.drop('LocationID', 'zone').write.parquet('tmp/revenue-zones')"
   ]
  }
 ],
 "metadata": {
  "kernelspec": {
   "display_name": "Python 3 (ipykernel)",
   "language": "python",
   "name": "python3"
  },
  "language_info": {
   "codemirror_mode": {
    "name": "ipython",
    "version": 3
   },
   "file_extension": ".py",
   "mimetype": "text/x-python",
   "name": "python",
   "nbconvert_exporter": "python",
   "pygments_lexer": "ipython3",
   "version": "3.11.6"
  }
 },
 "nbformat": 4,
 "nbformat_minor": 5
}
