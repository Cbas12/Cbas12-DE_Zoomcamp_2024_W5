{
 "cells": [
  {
   "cell_type": "code",
   "execution_count": 4,
   "id": "3307b886",
   "metadata": {},
   "outputs": [],
   "source": [
    "import pyspark\n",
    "from pyspark.sql import SparkSession\n",
    "\n",
    "spark = SparkSession.builder \\\n",
    "    .master(\"local[*]\") \\\n",
    "    .appName('test') \\\n",
    "    .getOrCreate()"
   ]
  },
  {
   "cell_type": "code",
   "execution_count": 5,
   "id": "1ee1eb1d",
   "metadata": {},
   "outputs": [],
   "source": [
    "df_green = spark.read.parquet('data/pq/green/*/*')"
   ]
  },
  {
   "cell_type": "code",
   "execution_count": null,
   "id": "0ca5ee99",
   "metadata": {},
   "outputs": [],
   "source": []
  },
  {
   "cell_type": "code",
   "execution_count": 6,
   "id": "649bb4da",
   "metadata": {},
   "outputs": [],
   "source": [
    "df_green = df_green \\\n",
    "    .withColumnRenamed('lpep_pickup_datetime', 'pickup_datetime') \\\n",
    "    .withColumnRenamed('lpep_dropoff_datetime', 'dropoff_datetime')"
   ]
  },
  {
   "cell_type": "code",
   "execution_count": 7,
   "id": "90cd6845",
   "metadata": {},
   "outputs": [],
   "source": [
    "df_yellow = spark.read.parquet('data/pq/yellow/*/*')"
   ]
  },
  {
   "cell_type": "code",
   "execution_count": 8,
   "id": "88822efd",
   "metadata": {},
   "outputs": [],
   "source": [
    "df_yellow = df_yellow \\\n",
    "    .withColumnRenamed('tpep_pickup_datetime', 'pickup_datetime') \\\n",
    "    .withColumnRenamed('tpep_dropoff_datetime', 'dropoff_datetime')"
   ]
  },
  {
   "cell_type": "code",
   "execution_count": 9,
   "id": "610167a2",
   "metadata": {},
   "outputs": [],
   "source": [
    "common_colums = []\n",
    "\n",
    "yellow_columns = set(df_yellow.columns)\n",
    "\n",
    "for col in df_green.columns:\n",
    "    if col in yellow_columns:\n",
    "        common_colums.append(col)"
   ]
  },
  {
   "cell_type": "code",
   "execution_count": 10,
   "id": "839d773f",
   "metadata": {},
   "outputs": [],
   "source": [
    "from pyspark.sql import functions as F"
   ]
  },
  {
   "cell_type": "code",
   "execution_count": 13,
   "id": "2498810a",
   "metadata": {},
   "outputs": [],
   "source": [
    "df_green_sel = df_green \\\n",
    "    .select(common_colums) \\\n",
    "    .withColumn('service_type', F.lit('green'))"
   ]
  },
  {
   "cell_type": "code",
   "execution_count": 14,
   "id": "19032efc",
   "metadata": {},
   "outputs": [],
   "source": [
    "df_yellow_sel = df_yellow \\\n",
    "    .select(common_colums) \\\n",
    "    .withColumn('service_type', F.lit('yellow'))"
   ]
  },
  {
   "cell_type": "code",
   "execution_count": 15,
   "id": "f5b0f3d1",
   "metadata": {},
   "outputs": [],
   "source": [
    "df_trips_data = df_green_sel.unionAll(df_yellow_sel)"
   ]
  },
  {
   "cell_type": "code",
   "execution_count": 16,
   "id": "1bed8b33",
   "metadata": {},
   "outputs": [
    {
     "name": "stdout",
     "output_type": "stream",
     "text": [
      "+------------+--------+\n",
      "|service_type|   count|\n",
      "+------------+--------+\n",
      "|       green| 2304517|\n",
      "|      yellow|39649199|\n",
      "+------------+--------+\n",
      "\n"
     ]
    }
   ],
   "source": [
    "df_trips_data.groupBy('service_type').count().show()"
   ]
  },
  {
   "cell_type": "code",
   "execution_count": 17,
   "id": "28cc8fa3",
   "metadata": {},
   "outputs": [
    {
     "data": {
      "text/plain": [
       "['VendorID',\n",
       " 'pickup_datetime',\n",
       " 'dropoff_datetime',\n",
       " 'store_and_fwd_flag',\n",
       " 'RatecodeID',\n",
       " 'PULocationID',\n",
       " 'DOLocationID',\n",
       " 'passenger_count',\n",
       " 'trip_distance',\n",
       " 'fare_amount',\n",
       " 'extra',\n",
       " 'mta_tax',\n",
       " 'tip_amount',\n",
       " 'tolls_amount',\n",
       " 'improvement_surcharge',\n",
       " 'total_amount',\n",
       " 'payment_type',\n",
       " 'congestion_surcharge',\n",
       " 'service_type']"
      ]
     },
     "execution_count": 17,
     "metadata": {},
     "output_type": "execute_result"
    }
   ],
   "source": [
    "df_trips_data.columns"
   ]
  },
  {
   "cell_type": "code",
   "execution_count": 18,
   "id": "36e90cbc",
   "metadata": {},
   "outputs": [
    {
     "name": "stderr",
     "output_type": "stream",
     "text": [
      "/usr/local/spark/python/pyspark/sql/dataframe.py:329: FutureWarning: Deprecated in 2.0, use createOrReplaceTempView instead.\n",
      "  warnings.warn(\"Deprecated in 2.0, use createOrReplaceTempView instead.\", FutureWarning)\n"
     ]
    }
   ],
   "source": [
    "df_trips_data.registerTempTable('trips_data')"
   ]
  },
  {
   "cell_type": "code",
   "execution_count": 19,
   "id": "d0e01bf1",
   "metadata": {},
   "outputs": [
    {
     "name": "stdout",
     "output_type": "stream",
     "text": [
      "+------------+--------+\n",
      "|service_type|count(1)|\n",
      "+------------+--------+\n",
      "|       green| 2304517|\n",
      "|      yellow|39649199|\n",
      "+------------+--------+\n",
      "\n"
     ]
    }
   ],
   "source": [
    "spark.sql(\"\"\"\n",
    "SELECT\n",
    "    service_type,\n",
    "    count(1)\n",
    "FROM\n",
    "    trips_data\n",
    "GROUP BY \n",
    "    service_type\n",
    "\"\"\").show()"
   ]
  },
  {
   "cell_type": "code",
   "execution_count": 45,
   "id": "066806ce",
   "metadata": {},
   "outputs": [
    {
     "name": "stdout",
     "output_type": "stream",
     "text": [
      "+------------+----+---+----------+\n",
      "|service_type|Year|  Q|trip_count|\n",
      "+------------+----+---+----------+\n",
      "|       green|2020|  1|   1069770|\n",
      "|       green|2020|  2|    156077|\n",
      "|       green|2020|  3|    241299|\n",
      "|       green|2020|  4|    266853|\n",
      "|       green|2021|  1|    224917|\n",
      "|       green|2021|  2|    261861|\n",
      "|       green|2021|  3|     83675|\n",
      "|      yellow|2020|  1|  15711510|\n",
      "|      yellow|2020|  2|   1136029|\n",
      "|      yellow|2020|  3|   3148604|\n",
      "|      yellow|2020|  4|   4652092|\n",
      "|      yellow|2021|  1|   4666585|\n",
      "|      yellow|2021|  2|   7512500|\n",
      "|      yellow|2021|  3|   2821469|\n",
      "|      yellow|2021|  4|        13|\n",
      "+------------+----+---+----------+\n",
      "\n"
     ]
    }
   ],
   "source": [
    "spark.sql(\"\"\"\n",
    "SELECT \n",
    "    service_type,\n",
    "    YEAR(pickup_datetime) AS Year,\n",
    "    QUARTER(pickup_datetime) AS Q,\n",
    "    COUNT(*) AS trip_count\n",
    "FROM \n",
    "    trips_data WHERE YEAR(pickup_datetime) IN (2020,2021)\n",
    "GROUP BY \n",
    "    service_type,\n",
    "    YEAR(pickup_datetime),\n",
    "    QUARTER(pickup_datetime)\n",
    "ORDER BY service_type,Year,Q\n",
    "\"\"\").show()"
   ]
  },
  {
   "cell_type": "code",
   "execution_count": 48,
   "id": "b2ee7038",
   "metadata": {},
   "outputs": [],
   "source": [
    "df_result = spark.sql(\"\"\"\n",
    "SELECT \n",
    "    -- Reveneue grouping \n",
    "    PULocationID AS revenue_zone,\n",
    "    date_trunc('month', pickup_datetime) AS revenue_month, \n",
    "    service_type, \n",
    "\n",
    "    -- Revenue calculation \n",
    "    SUM(fare_amount) AS revenue_monthly_fare,\n",
    "    SUM(extra) AS revenue_monthly_extra,\n",
    "    SUM(mta_tax) AS revenue_monthly_mta_tax,\n",
    "    SUM(tip_amount) AS revenue_monthly_tip_amount,\n",
    "    SUM(tolls_amount) AS revenue_monthly_tolls_amount,\n",
    "    SUM(improvement_surcharge) AS revenue_monthly_improvement_surcharge,\n",
    "    SUM(total_amount) AS revenue_monthly_total_amount,\n",
    "    SUM(congestion_surcharge) AS revenue_monthly_congestion_surcharge,\n",
    "\n",
    "    -- Additional calculations\n",
    "    AVG(passenger_count) AS avg_montly_passenger_count,\n",
    "    AVG(trip_distance) AS avg_montly_trip_distance\n",
    "FROM\n",
    "    trips_data\n",
    "GROUP BY\n",
    "    1, 2, 3\n",
    "\"\"\")"
   ]
  },
  {
   "cell_type": "code",
   "execution_count": 50,
   "id": "98de20d9",
   "metadata": {},
   "outputs": [
    {
     "name": "stdout",
     "output_type": "stream",
     "text": [
      "+------------+-------------------+------------+--------------------+---------------------+-----------------------+--------------------------+----------------------------+-------------------------------------+----------------------------+------------------------------------+--------------------------+------------------------+\n",
      "|revenue_zone|      revenue_month|service_type|revenue_monthly_fare|revenue_monthly_extra|revenue_monthly_mta_tax|revenue_monthly_tip_amount|revenue_monthly_tolls_amount|revenue_monthly_improvement_surcharge|revenue_monthly_total_amount|revenue_monthly_congestion_surcharge|avg_montly_passenger_count|avg_montly_trip_distance|\n",
      "+------------+-------------------+------------+--------------------+---------------------+-----------------------+--------------------------+----------------------------+-------------------------------------+----------------------------+------------------------------------+--------------------------+------------------------+\n",
      "|         243|2019-12-01 00:00:00|       green|               13.99|                  0.0|                    0.0|                       1.0|                         0.0|                                  0.3|                       15.29|                                 0.0|                       1.0|                     0.0|\n",
      "|          20|2020-01-01 00:00:00|       green|  11375.419999999995|                681.0|                  131.0|         90.61999999999999|          479.86000000000024|                   147.29999999999933|          12923.200000000015|                                11.0|        1.2297872340425533|       4.872311926605506|\n",
      "|          12|2020-01-01 00:00:00|       green|              161.01|                  5.5|                    1.0|                       0.0|                       12.24|                                  1.2|                      180.95|                                NULL|                      NULL|      0.7150000000000007|\n",
      "|         192|2020-01-01 00:00:00|       green|   8618.379999999997|               395.25|                   63.5|        374.92999999999995|                       54.05|                    90.29999999999974|            9608.11000000001|                                 0.0|        1.3060109289617485|       5.159457142857146|\n",
      "|         225|2020-01-01 00:00:00|       green|   54163.14000000017|               3779.0|                  573.0|        299.31999999999994|           786.1500000000004|                    662.1000000000137|           60424.10999999988|                                49.5|        1.1127596439169138|        4.17263571990558|\n",
      "|           7|2020-02-01 00:00:00|       green|   150332.0300000001|               7232.5|                 6804.0|        12193.109999999993|          1539.1999999999975|                    4271.700000000408|           185070.8400000124|                             2675.75|        1.4657236126224156|       2.232184170471841|\n",
      "|          33|2020-01-01 00:00:00|       green|   155230.3799999991|              6140.75|                 4757.0|        18298.059999999954|           660.7100000000003|                    3095.099999999926|          194160.70000000534|                              6190.5|        1.2879223963330135|       3.408719483233595|\n",
      "|         217|2020-01-01 00:00:00|       green|   7338.409999999996|                423.5|                   98.5|         82.83000000000001|          137.88000000000005|                    91.19999999999972|           8200.170000000004|                               24.75|        1.1933333333333334|      4.8195562130177505|\n",
      "|         161|2020-01-01 00:00:00|       green|  2278.8300000000004|                148.5|                    5.0|                       0.0|          183.66000000000003|                    21.60000000000002|          2637.5899999999997|                                 0.0|                       1.0|       8.621388888888891|\n",
      "|         159|2020-01-01 00:00:00|       green|  31086.470000000005|               1782.5|                  541.0|                    283.16|          1169.1900000000005|                   482.70000000000766|           35435.21999999963|                               85.25|         1.176300578034682|       4.014747826086957|\n",
      "|          62|2020-01-01 00:00:00|       green|  26734.569999999956|               2084.0|                  273.5|        213.79000000000002|          237.89000000000004|                   336.30000000000337|          29938.649999999878|                               13.75|        1.2145328719723183|        4.05235524256651|\n",
      "|         191|2020-01-01 00:00:00|       green|   24836.62000000003|              1235.25|                  144.0|                      9.97|          411.53000000000014|                    218.4000000000004|          26858.519999999982|                                2.75|        1.2651162790697674|       8.111508951406645|\n",
      "|         236|2020-01-01 00:00:00|       green|  13472.720000000003|                755.5|                  443.0|         1573.129999999999|          397.23000000000013|                   298.50000000000216|           18493.02999999996|                             1702.25|        1.4016203703703705|       3.121473788328389|\n",
      "|          25|2020-01-01 00:00:00|       green|  119852.57999999962|               6304.5|                 3428.5|         8952.990000000007|           851.8100000000004|                   2377.7999999998224|          143392.23000000426|                              1622.0|        1.2347905839192908|      3.1582395311927693|\n",
      "|         254|2020-01-01 00:00:00|       green|   35814.50000000008|              2336.75|                  215.0|                     11.26|          1600.8499999999985|                   352.50000000000387|           40336.70999999992|                                 0.0|        1.2430939226519337|       7.236776669224859|\n",
      "|          70|2020-01-01 00:00:00|       green|   9938.849999999991|                611.0|                  139.0|                    122.54|           299.1600000000001|                   141.59999999999937|          11273.350000000013|                                22.0|        1.2639405204460967|       4.615189393939395|\n",
      "|         251|2020-01-01 00:00:00|       green|               156.5|                  0.0|                    1.5|                     13.73|                       39.74|                   0.8999999999999999|                      220.07|                                2.75|        2.3333333333333335|      16.176666666666666|\n",
      "|          29|2020-01-01 00:00:00|       green|  25023.050000000036|               1154.5|                  230.0|        116.18999999999998|           802.9200000000005|                   225.00000000000057|           27554.40999999994|                                2.75|        1.1295681063122924|       7.838712753277714|\n",
      "|          56|2020-01-01 00:00:00|       green|  23927.470000000052|               1648.5|                  265.0|                    142.16|           659.4200000000003|                    333.3000000000032|          26997.049999999865|                                22.0|        1.3625498007968126|       4.243021523178809|\n",
      "|         222|2020-01-01 00:00:00|       green|  27154.670000000067|               1781.5|                  204.0|                      15.4|           652.5100000000003|                    237.6000000000007|          30049.580000000027|                                 0.0|        1.3208955223880596|       6.810162107396151|\n",
      "+------------+-------------------+------------+--------------------+---------------------+-----------------------+--------------------------+----------------------------+-------------------------------------+----------------------------+------------------------------------+--------------------------+------------------------+\n",
      "only showing top 20 rows\n",
      "\n"
     ]
    }
   ],
   "source": [
    "df_result.show()"
   ]
  },
  {
   "cell_type": "code",
   "execution_count": 47,
   "id": "f67eeb92",
   "metadata": {},
   "outputs": [],
   "source": [
    "df_result.coalesce(1).write.parquet('data/report/revenue/', mode='overwrite')"
   ]
  },
  {
   "cell_type": "code",
   "execution_count": null,
   "id": "f56a885d",
   "metadata": {},
   "outputs": [],
   "source": []
  }
 ],
 "metadata": {
  "kernelspec": {
   "display_name": "Python 3 (ipykernel)",
   "language": "python",
   "name": "python3"
  },
  "language_info": {
   "codemirror_mode": {
    "name": "ipython",
    "version": 3
   },
   "file_extension": ".py",
   "mimetype": "text/x-python",
   "name": "python",
   "nbconvert_exporter": "python",
   "pygments_lexer": "ipython3",
   "version": "3.11.6"
  }
 },
 "nbformat": 4,
 "nbformat_minor": 5
}
